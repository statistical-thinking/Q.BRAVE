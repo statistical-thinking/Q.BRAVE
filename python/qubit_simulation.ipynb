{
 "cells": [
  {
   "cell_type": "code",
   "execution_count": 8,
   "id": "4683e4e5-242e-4af0-8de9-35fc5d8364ac",
   "metadata": {},
   "outputs": [
    {
     "name": "stdout",
     "output_type": "stream",
     "text": [
      "Initial state (|0⟩):\n",
      "Qubit state (before measurement):\n",
      "  |0⟩ coefficient: 1.000\n",
      "  |1⟩ coefficient: 0.000\n",
      "  Probability of |0⟩: 1.000\n",
      "  Probability of |1⟩: 0.000\n",
      "------------------------------\n",
      "After Hadamard (superposition):\n",
      "Qubit state (before measurement):\n",
      "  |0⟩ coefficient: 0.707\n",
      "  |1⟩ coefficient: 0.707\n",
      "  Probability of |0⟩: 0.500\n",
      "  Probability of |1⟩: 0.500\n",
      "------------------------------\n",
      "Measurement result: |0⟩\n",
      "Qubit state (before measurement):\n",
      "  |0⟩ coefficient: 1.000\n",
      "  |1⟩ coefficient: 0.000\n",
      "  Probability of |0⟩: 1.000\n",
      "  Probability of |1⟩: 0.000\n",
      "------------------------------\n"
     ]
    }
   ],
   "source": [
    "import random\n",
    "import math\n",
    "\n",
    "class Qubit:\n",
    "    def __init__(self):\n",
    "        # Start in the |0⟩ state (alpha=1, beta=0)\n",
    "        self.alpha = 1.0  # Probability amplitude for |0⟩\n",
    "        self.beta = 0.0   # Probability amplitude for |1⟩\n",
    "\n",
    "    def apply_hadamard(self):\n",
    "        \"\"\"Apply the Hadamard gate to put the qubit into superposition.\"\"\"\n",
    "        new_alpha = (self.alpha + self.beta) / math.sqrt(2)\n",
    "        new_beta = (self.alpha - self.beta) / math.sqrt(2)\n",
    "        self.alpha, self.beta = new_alpha, new_beta\n",
    "\n",
    "    def measure(self):\n",
    "        \"\"\"Collapse the qubit state to |0⟩ or |1⟩ and return the result.\"\"\"\n",
    "        prob_0 = self.alpha ** 2\n",
    "        prob_1 = self.beta ** 2\n",
    "        result = 0 if random.random() < prob_0 else 1\n",
    "\n",
    "        # Collapse the state to the measured result\n",
    "        if result == 0:\n",
    "            self.alpha, self.beta = 1.0, 0.0  # Collapse to |0⟩\n",
    "        else:\n",
    "            self.alpha, self.beta = 0.0, 1.0  # Collapse to |1⟩\n",
    "\n",
    "        return result\n",
    "\n",
    "    def print_state(self):\n",
    "        \"\"\"Print the qubit's probability amplitudes before measurement.\"\"\"\n",
    "        print(f\"Qubit state (before measurement):\")\n",
    "        print(f\"  |0⟩ coefficient: {self.alpha:.3f}\")\n",
    "        print(f\"  |1⟩ coefficient: {self.beta:.3f}\")\n",
    "        print(f\"  Probability of |0⟩: {self.alpha ** 2:.3f}\")\n",
    "        print(f\"  Probability of |1⟩: {self.beta ** 2:.3f}\")\n",
    "        print(\"-\" * 30)\n",
    "\n",
    "# --- Example Usage ---\n",
    "qubit = Qubit()\n",
    "print(\"Initial state (|0⟩):\")\n",
    "qubit.print_state()\n",
    "\n",
    "# Apply Hadamard gate (creates superposition)\n",
    "qubit.apply_hadamard()\n",
    "print(\"After Hadamard (superposition):\")\n",
    "qubit.print_state()\n",
    "\n",
    "# Measure the qubit (collapses the state)\n",
    "result = qubit.measure()\n",
    "print(f\"Measurement result: |{result}⟩\")\n",
    "qubit.print_state()  # Print state after measurement (collapsed)"
   ]
  },
  {
   "cell_type": "code",
   "execution_count": 10,
   "id": "67ccd204-adba-4613-88af-77712daa330f",
   "metadata": {},
   "outputs": [
    {
     "name": "stdout",
     "output_type": "stream",
     "text": [
      "After Hadamard (superposition):\n",
      "Qubit state (before measurement):\n",
      "  |0⟩ coefficient: 0.707\n",
      "  |1⟩ coefficient: 0.707\n",
      "  Probability of |0⟩: 0.500\n",
      "  Probability of |1⟩: 0.500\n",
      "------------------------------\n",
      "Measurement result: 0\n",
      "Qubit state (before measurement):\n",
      "  |0⟩ coefficient: 1.000\n",
      "  |1⟩ coefficient: 0.000\n",
      "  Probability of |0⟩: 1.000\n",
      "  Probability of |1⟩: 0.000\n",
      "------------------------------\n"
     ]
    }
   ],
   "source": [
    "# Apply Hadamard gate to create superposition\n",
    "qubit.apply_hadamard()\n",
    "print(\"After Hadamard (superposition):\")\n",
    "qubit.print_state()  # Superposition\n",
    "\n",
    "# Measure the qubit (collapse the state)\n",
    "result = qubit.measure()\n",
    "print(f\"Measurement result: {result}\")\n",
    "qubit.print_state()  # The state after measurement"
   ]
  },
  {
   "cell_type": "code",
   "execution_count": null,
   "id": "92cc8f3d-0834-434a-97c1-83b88bf155b0",
   "metadata": {},
   "outputs": [],
   "source": []
  }
 ],
 "metadata": {
  "kernelspec": {
   "display_name": "Python 3 (ipykernel)",
   "language": "python",
   "name": "python3"
  },
  "language_info": {
   "codemirror_mode": {
    "name": "ipython",
    "version": 3
   },
   "file_extension": ".py",
   "mimetype": "text/x-python",
   "name": "python",
   "nbconvert_exporter": "python",
   "pygments_lexer": "ipython3",
   "version": "3.12.3"
  }
 },
 "nbformat": 4,
 "nbformat_minor": 5
}
